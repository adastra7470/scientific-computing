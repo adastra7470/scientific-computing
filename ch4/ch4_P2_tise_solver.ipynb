{
 "cells": [
  {
   "cell_type": "code",
   "execution_count": null,
   "metadata": {},
   "outputs": [],
   "source": []
  },
  {
   "cell_type": "code",
   "execution_count": null,
   "metadata": {},
   "outputs": [],
   "source": [
    "# 사전 지식\n",
    "\n",
    "슈뢰딩거 방정식은 양자역학적 계의 시간에 따른 변화를 나타내는 방정식입니다. 이것을 직접 해결하는 것은 쉽지 않지만, 시간에 따라 변화하지 않는 정상파와 같은 계의 경우에는 방정식을 좀 더 간단하게 만들 수 있습니다. 이론적인 내용은 Griffiths와 같은 양자역학 교재를 참조하세요.\n",
    "\n",
    "시간 독립 슈뢰딩거 방정식은 다음과 같이 표현됩니다:\n",
    "$$\n",
    "H \\Psi = E \\Psi.\n",
    "$$\n",
    "\n",
    "이때 $E$는 계의 에너지를 나타내는 스칼라값이고, \n",
    "$$\n",
    "H = -\\frac{\\hbar^2}{2m} \\frac{d^2}{dt^2} + V\n",
    "$$\n",
    "입니다. 이때 $H$는 선형 연산자이기 때문에 시간 비의존 슈뢰딩거 방정식은 고윳값 문제로 변형될 수 있습니다.\n",
    "\n",
    "이 문제에서는 컴퓨터로 고윳값 문제를 해결하기 위해서 선형 연산자를 행렬로 근사해 사용합니다. 이때\n",
    "$$\n",
    "-\\frac{\\hbar^2}{2m} \\frac{d^2}{dt^2} \\Psi = -\\frac{\\hbar^2}{2m} \\begin{bmatrix}\n",
    "-2 & 1 & 0 & \\dots & 0 \\\\\n",
    "1 & -2 & 1 & \\dots & 0 \\\\\n",
    "0 & 1 & -2 & \\dots & 0 \\\\\n",
    "\\vdots & \\vdots & \\vdots & \\ddots & \\vdots \\\\\n",
    "0 & 0 & 0 & \\dots & -2\n",
    "\\end{bmatrix} \\Psi,\n",
    "$$\n",
    "$$\n",
    "V \\Psi = \\begin{bmatrix}\n",
    "V(x_\\text{min}) & 0 & 0 & \\dots & 0 \\\\\n",
    "0 & V(x_\\text{min} + \\Delta) & 0 & \\dots & 0 \\\\\n",
    "0 & 0 & V(x_\\text{min} + 2 \\Delta) & \\dots & 0 \\\\\n",
    "\\vdots & \\vdots & \\vdots & \\ddots & \\vdots \\\\\n",
    "0 & 0 & 0 & \\dots & V(x_\\text{max})\n",
    "\\end{bmatrix} \\Psi\n",
    "$$\n",
    "입니다."
   ]
  },
  {
   "cell_type": "code",
   "execution_count": null,
   "metadata": {},
   "outputs": [],
   "source": [
    "\n",
    "\n",
    "n = 1000\n",
    "\n",
    "laplacian = "
   ]
  },
  {
   "cell_type": "markdown",
   "metadata": {},
   "source": []
  }
 ],
 "metadata": {
  "kernelspec": {
   "display_name": "Python 3.10.4 (conda)",
   "language": "python",
   "name": "python3"
  },
  "language_info": {
   "codemirror_mode": {
    "name": "ipython",
    "version": 3
   },
   "file_extension": ".py",
   "mimetype": "text/x-python",
   "name": "python",
   "nbconvert_exporter": "python",
   "pygments_lexer": "ipython3",
   "version": "3.10.4"
  },
  "vscode": {
   "interpreter": {
    "hash": "d5386e5449931da5aa18413b30712a96cfd4c7124f3502bdd50d8a78ee17f4f7"
   }
  }
 },
 "nbformat": 4,
 "nbformat_minor": 2
}
