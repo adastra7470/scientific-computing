{
 "cells": [
  {
   "cell_type": "markdown",
   "metadata": {},
   "source": [
    "# 사전 지식\n",
    "\n",
    "앞선 문제에서는 대칭형 NACA 익형에 대해서만 다루었지만, 그렇지 않은 NACA 익형도 있습니다. \"cambered\", 또는 휘어진 NACA 익형은 대칭 익형과 비슷한 방식으로 생성되지만, 두께를 측정하는 기준선이 직선이 아니라는 차이점이 있습니다. 휘어진 NACA 익형의 기준선은 다음의 식을 따릅니다. \n",
    "\n",
    "$$\n",
    "y_c = \\begin{cases}\n",
    " \\dfrac{m}{p^2} \\left(2px - x^2\\right), & (0 \\leq x \\leq p) \\\\\n",
    " \\dfrac{m}{(1 - p)^2} \\left( (1 - 2p) + 2px - x^2\\right), & (p \\leq x \\leq 1)\n",
    "\\end{cases}\n",
    "$$\n",
    "\n",
    "이때\n",
    "- $m$은 휘어진 정도를 나타내며, 이는 코드의 천의 자리 숫자를 100으로 나눈 값과 같고,\n",
    "- $p$는 최고점의 위치를 나타내며, 이는 코드의 백의 자리 숫자를 10으로 나눈 값과 같으며,\n",
    "- 나머지 변수들은 문제 1번에서 주어진 것과 같습니다.\n",
    "\n",
    "에어포일의 두께는 기준선에 수직으로 계산되어야 하므로, 추가적인 작업들이 필요할 것입니다. 하지만 너무 어렵게 생각할 필요는 없습니다."
   ]
  },
  {
   "cell_type": "markdown",
   "metadata": {},
   "source": [
    "# 문제\n",
    "\n",
    "다음과 같이 동작하는 함수 `naca_cambered_generator`을 작성하시오:\n",
    "\n",
    "- 입력: 네 자리의 자연수를 표현하는 문자열 `xxxx`\n",
    "- 출력: `NACA00xx` 익형을 표현하는 샘플 포인트들의 x좌표를 담은 ndarray `x_coord`, y좌표를 담은 ndarray `y_coord`.\n",
    "\n",
    "작성이 완료되면 셀을 실행한 뒤, 아래에 있는 모범답안과 동일하게 표시되는지를 확인하시오. 이전 문제의 코드를 재활용하는 것이 도움이 될 수도 있습니다."
   ]
  },
  {
   "cell_type": "code",
   "execution_count": null,
   "metadata": {},
   "outputs": [],
   "source": [
    "# 필요한 패키지들을 임포트하세요\n",
    "import matplotlib.pyplot as plt\n",
    "\n",
    "\n",
    "# 여기에 코드를 작성하세요\n",
    "def naca_cambered_generator(naca_code):\n",
    "    return [], []\n",
    "\n",
    "\n",
    "# 그래프를 그리는 코드 - 수정하지 마세요\n",
    "def main():\n",
    "    codes = [\"2412\", \"4312\"]\n",
    "\n",
    "    for naca_code in codes:\n",
    "        x_coord, y_coord = naca_cambered_generator(naca_code)\n",
    "        \n",
    "        plt.figure(figsize=(4, 4))\n",
    "        plt.plot(x_coord, y_coord)\n",
    "\n",
    "        ax = plt.gca()\n",
    "        ax.set_xlim([-0.5, 1.5])\n",
    "        ax.set_ylim([-1, 1])\n",
    "        \n",
    "        plt.show()\n",
    "\n",
    "main()"
   ]
  },
  {
   "cell_type": "markdown",
   "metadata": {},
   "source": [
    "# 모범 답안"
   ]
  },
  {
   "cell_type": "code",
   "execution_count": 5,
   "metadata": {},
   "outputs": [
    {
     "data": {
      "image/png": "[encoded data removed]",
      "text/plain": [
       "<Figure size 432x432 with 1 Axes>"
      ]
     },
     "metadata": {
      "needs_background": "light"
     },
     "output_type": "display_data"
    },
    {
     "data": {
      "image/png": "[encoded data removed]",
      "text/plain": [
       "<Figure size 432x432 with 1 Axes>"
      ]
     },
     "metadata": {
      "needs_background": "light"
     },
     "output_type": "display_data"
    }
   ],
   "source": [
    "import numpy as np\n",
    "import matplotlib.pyplot as plt\n",
    "\n",
    "def naca_cambered_generator(naca_code):\n",
    "    t = int(naca_code[2:4]) / 100\n",
    "    p = int(naca_code[1:2]) / 10\n",
    "    m = int(naca_code[0:1]) / 100\n",
    "\n",
    "    x_front = np.arange(0, p, 0.01)\n",
    "    x_rear = np.arange(p, 1.001, 0.01)\n",
    "    x = np.hstack((x_front, x_rear))\n",
    "    thickness = 5 * t * (\n",
    "        0.2969 * x ** 0.5\n",
    "        - 0.1260 * x\n",
    "        - 0.3516 * x ** 2\n",
    "        + 0.2843 * x ** 3\n",
    "        - 0.1015 * x ** 4\n",
    "    )\n",
    "\n",
    "    y_front = m / p ** 2 * (2 * p * x_front - x_front ** 2)\n",
    "    y_rear = m / (1 - p) ** 2 * (1 - 2 * p + 2 * p * x_rear - x_rear ** 2)\n",
    "    y = np.hstack((y_front, y_rear))\n",
    "\n",
    "    deriv_front = 2 * m / p ** 2 * (p - x_front)\n",
    "    deriv_rear = 2 * m - (1 - p) ** 2 * (p - x_rear)\n",
    "    angle = np.arctan(np.hstack((deriv_front, deriv_rear)))\n",
    "\n",
    "    x_upper = x - thickness * np.sin(angle)\n",
    "    x_lower = x + thickness * np.sin(angle)\n",
    "    y_upper = y + thickness * np.cos(angle)\n",
    "    y_lower = y - thickness * np.cos(angle)\n",
    "\n",
    "\n",
    "    x_coord = np.hstack((x_upper, x_lower[::-1]))\n",
    "    y_coord = np.hstack((y_upper, y_lower[::-1]))\n",
    "\n",
    "    return x_coord, y_coord\n",
    "\n",
    "\n",
    "def main():\n",
    "    codes = [\"2412\", \"4312\"]\n",
    "\n",
    "    for naca_code in codes:\n",
    "        x_coord, y_coord = naca_cambered_generator(naca_code)\n",
    "        \n",
    "        plt.figure(figsize=(6, 6))\n",
    "        plt.plot(x_coord, y_coord)\n",
    "\n",
    "        ax = plt.gca()\n",
    "        ax.set_xlim([-0.5, 1.5])\n",
    "        ax.set_ylim([-1, 1])\n",
    "        \n",
    "        plt.show()\n",
    "\n",
    "main()"
   ]
  },
  {
   "cell_type": "code",
   "execution_count": null,
   "metadata": {},
   "outputs": [],
   "source": []
  }
 ],
 "metadata": {
  "kernelspec": {
   "display_name": "Python 3.9.12 ('base')",
   "language": "python",
   "name": "python3"
  },
  "language_info": {
   "codemirror_mode": {
    "name": "ipython",
    "version": 3
   },
   "file_extension": ".py",
   "mimetype": "text/x-python",
   "name": "python",
   "nbconvert_exporter": "python",
   "pygments_lexer": "ipython3",
   "version": "3.9.12"
  },
  "orig_nbformat": 4,
  "vscode": {
   "interpreter": {
    "hash": "d4d1e4263499bec80672ea0156c357c1ee493ec2b1c70f0acce89fc37c4a6abe"
   }
  }
 },
 "nbformat": 4,
 "nbformat_minor": 2
}
